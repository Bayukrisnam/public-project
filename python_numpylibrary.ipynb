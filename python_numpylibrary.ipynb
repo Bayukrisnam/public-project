{
 "cells": [
  {
   "cell_type": "markdown",
   "metadata": {},
   "source": [
    "1. Membuat array 1D dengan 5 elemen bilangan bulat acak antara 1 hingga 10:"
   ]
  },
  {
   "cell_type": "code",
   "execution_count": 2,
   "metadata": {},
   "outputs": [],
   "source": [
    "import numpy as np"
   ]
  },
  {
   "cell_type": "code",
   "execution_count": 5,
   "metadata": {},
   "outputs": [
    {
     "name": "stdout",
     "output_type": "stream",
     "text": [
      "Array 1D: [2 4 7 3 5]\n"
     ]
    }
   ],
   "source": [
    "array_1d = np.random.randint(1, 11, size=5)\n",
    "print(\"Array 1D:\", array_1d)"
   ]
  },
  {
   "cell_type": "markdown",
   "metadata": {},
   "source": [
    "2. Hitung jumlah, rata-rata, nilai minimum, dan nilai maksimum dari array yang telah dibuat.\t\t"
   ]
  },
  {
   "cell_type": "code",
   "execution_count": 1,
   "metadata": {},
   "outputs": [
    {
     "name": "stdout",
     "output_type": "stream",
     "text": [
      "jumlah: 21\n",
      "rata-rata: 4.2\n",
      "nilai minimum: 2\n",
      "nilai maximim: 7\n"
     ]
    }
   ],
   "source": [
    "array_1d = [2, 4, 3, 7, 5]\n",
    "\n",
    "#Menghitung jumlah\n",
    "jumlah = sum(array_1d)\n",
    "\n",
    "#hitung rata-rata\n",
    "average = jumlah/len(array_1d)\n",
    "\n",
    "#hitung nilai minimum\n",
    "nilai_min = min(array_1d)\n",
    "\n",
    "#hitung nilai max\n",
    "nilai_max = max(array_1d)\n",
    "\n",
    "#print hasil\n",
    "print(f\"jumlah: {jumlah}\")\n",
    "print(f\"rata-rata: {average}\")\n",
    "print(f\"nilai minimum: {nilai_min}\")\n",
    "print(f\"nilai maximim: {nilai_max}\")"
   ]
  },
  {
   "cell_type": "markdown",
   "metadata": {},
   "source": [
    "3. Buatlah dua buah array NumPy 2D dengan ukuran 3x3 yang berisi bilangan bulat acak."
   ]
  },
  {
   "cell_type": "code",
   "execution_count": 3,
   "metadata": {},
   "outputs": [],
   "source": [
    "import numpy as np"
   ]
  },
  {
   "cell_type": "code",
   "execution_count": 4,
   "metadata": {},
   "outputs": [
    {
     "name": "stdout",
     "output_type": "stream",
     "text": [
      "array 1:\n",
      "[[5 0 3]\n",
      " [3 7 9]\n",
      " [3 5 2]]\n",
      "\n",
      "array 2:\n",
      "[[4 7 6]\n",
      " [8 8 1]\n",
      " [6 7 7]]\n"
     ]
    }
   ],
   "source": [
    "np.random.seed(0)\n",
    "\n",
    "#Mengatur dua array 2d 3x3\n",
    "array1 = np.random.randint(0, 10, size=(3, 3))\n",
    "array2 = np.random.randint(0, 10, size=(3, 3))\n",
    "\n",
    "#print hasil\n",
    "print(\"array 1:\")\n",
    "print(array1)\n",
    "print(\"\\narray 2:\")\n",
    "print(array2)"
   ]
  },
  {
   "cell_type": "markdown",
   "metadata": {},
   "source": [
    "4. Lakukan penjumlahan, pengurangan, perkalian, dan pembagian antara kedua array tersebut.\t"
   ]
  },
  {
   "cell_type": "code",
   "execution_count": 6,
   "metadata": {},
   "outputs": [
    {
     "name": "stdout",
     "output_type": "stream",
     "text": [
      "array 1:\n",
      "[[5 0 3]\n",
      " [3 7 9]\n",
      " [3 5 2]]\n",
      "\n",
      "array 2:\n",
      "[[4 7 6]\n",
      " [8 8 1]\n",
      " [6 7 7]]\n",
      "\n",
      "Hasil penjumlahan:\n",
      "[[ 9  7  9]\n",
      " [11 15 10]\n",
      " [ 9 12  9]]\n",
      "\n",
      "Hasil pengurangan:\n",
      "[[ 1 -7 -3]\n",
      " [-5 -1  8]\n",
      " [-3 -2 -5]]\n",
      "\n",
      "Hasil perkalian:\n",
      "[[20  0 18]\n",
      " [24 56  9]\n",
      " [18 35 14]]\n",
      "\n",
      "hasil pembagian\n",
      "[[1.25       0.         0.5       ]\n",
      " [0.375      0.875      9.        ]\n",
      " [0.5        0.71428571 0.28571429]]\n"
     ]
    }
   ],
   "source": [
    "#Menampilkan array \n",
    "print(\"array 1:\")\n",
    "print(array1)\n",
    "print(\"\\narray 2:\")\n",
    "print(array2)\n",
    "\n",
    "#penjumlahan\n",
    "penjumlahan = array1 + array2\n",
    "\n",
    "#pengurangan\n",
    "pengurangan = array1 - array2\n",
    "\n",
    "#perkalian\n",
    "perkalian = array1 * array2\n",
    "\n",
    "#Pembagian\n",
    "pembagian = np.divide(array1, array2, out=np.zeros_like(array1, dtype=float), where=array2!=0)\n",
    "\n",
    "#tampilkan hasil operasi perhitungan\n",
    "print(\"\\nHasil penjumlahan:\")\n",
    "print(penjumlahan)\n",
    "print(\"\\nHasil pengurangan:\")\n",
    "print(pengurangan)\n",
    "print(\"\\nHasil perkalian:\")\n",
    "print(perkalian)\n",
    "print(\"\\nhasil pembagian\")\n",
    "print(pembagian)\n"
   ]
  },
  {
   "cell_type": "markdown",
   "metadata": {},
   "source": [
    "5. Hitung determinan dari salah satu array tersebut.\t"
   ]
  },
  {
   "cell_type": "code",
   "execution_count": 7,
   "metadata": {},
   "outputs": [
    {
     "name": "stdout",
     "output_type": "stream",
     "text": [
      "array1:\n",
      "[[5 0 3]\n",
      " [3 7 9]\n",
      " [3 5 2]]\n",
      "\n",
      " Determinan dari array 1:\n",
      "-172.99999999999991\n"
     ]
    }
   ],
   "source": [
    "#Menampilkan array 1\n",
    "print(\"array1:\")\n",
    "print(array1)\n",
    "\n",
    "#Hitung determinan\n",
    "determinant = np.linalg.det(array1)\n",
    "\n",
    "#Hitung hasil\n",
    "print(\"\\n Determinan dari array 1:\")\n",
    "print(determinant)"
   ]
  },
  {
   "cell_type": "markdown",
   "metadata": {},
   "source": [
    "6. Buatlah array NumPy 1D dengan 10 elemen bilangan bulat dari 1 hingga 10."
   ]
  },
  {
   "cell_type": "code",
   "execution_count": 9,
   "metadata": {},
   "outputs": [
    {
     "name": "stdout",
     "output_type": "stream",
     "text": [
      "Array 1D2: [ 1  2  3  4  5  6  7  8  9 10]\n"
     ]
    }
   ],
   "source": [
    "array_1d2 = np.arange(1, 11)\n",
    "print(\"Array 1D2:\", array_1d2)"
   ]
  },
  {
   "cell_type": "markdown",
   "metadata": {},
   "source": [
    "7. Tampilkan elemen dengan indeks genap.\t"
   ]
  },
  {
   "cell_type": "code",
   "execution_count": 15,
   "metadata": {},
   "outputs": [
    {
     "name": "stdout",
     "output_type": "stream",
     "text": [
      "Array 1D2: [ 1  2  3  4  5  6  7  8  9 10]\n",
      "indeks genap:\n",
      "[1 3 5 7 9]\n"
     ]
    }
   ],
   "source": [
    "#Tampilkan hasil array\n",
    "array_1d2 = np.arange(1, 11)\n",
    "print(\"Array 1D2:\", array_1d2)\n",
    "\n",
    "#menampilkan indeks genap\n",
    "indeks_genap = array_1d2[::2]\n",
    "\n",
    "#Tampilkan hasil\n",
    "print(\"indeks genap:\")\n",
    "print(indeks_genap)"
   ]
  },
  {
   "cell_type": "markdown",
   "metadata": {},
   "source": [
    "8. Ambil subset array yang hanya berisi nilai lebih dari 5.\t"
   ]
  },
  {
   "cell_type": "code",
   "execution_count": 16,
   "metadata": {},
   "outputs": [
    {
     "name": "stdout",
     "output_type": "stream",
     "text": [
      "Array 1D2: [ 1  2  3  4  5  6  7  8  9 10]\n",
      "\n",
      "Subset yang hanya berisi nilai lebih dari 5:\n",
      "[ 6  7  8  9 10]\n"
     ]
    }
   ],
   "source": [
    "#Tampilkan hasil array\n",
    "array_1d2 = np.arange(1, 11)\n",
    "print(\"Array 1D2:\", array_1d2)\n",
    "\n",
    "#mengambil subset nilai > 5\n",
    "subset = array_1d2[array_1d2 > 5]\n",
    "\n",
    "#Tampilkan hasil\n",
    "print(\"\\nSubset yang hanya berisi nilai lebih dari 5:\")\n",
    "print(subset)"
   ]
  },
  {
   "cell_type": "markdown",
   "metadata": {},
   "source": [
    "9.Buatlah array NumPy 2D berukuran 4x4 dengan bilangan bulat acak.9."
   ]
  },
  {
   "cell_type": "code",
   "execution_count": 20,
   "metadata": {},
   "outputs": [
    {
     "name": "stdout",
     "output_type": "stream",
     "text": [
      "array 3:\n",
      "[[5 0 3 3]\n",
      " [7 9 3 5]\n",
      " [2 4 7 6]\n",
      " [8 8 1 6]]\n"
     ]
    }
   ],
   "source": [
    "np.random.seed(0)\n",
    "\n",
    "#Mengatur dua array 2d 4x4\n",
    "array3 = np.random.randint(0, 10, size=(4, 4))\n",
    "\n",
    "#print hasil\n",
    "print(\"array 3:\")\n",
    "print(array3)"
   ]
  },
  {
   "cell_type": "markdown",
   "metadata": {},
   "source": [
    "10. Hitung nilai rata-rata, standar deviasi, median, dan korelasi antar-kolom dari array tersebut.\t"
   ]
  },
  {
   "cell_type": "code",
   "execution_count": 21,
   "metadata": {},
   "outputs": [
    {
     "name": "stdout",
     "output_type": "stream",
     "text": [
      "array 3:\n",
      "[[5 0 3 3]\n",
      " [7 9 3 5]\n",
      " [2 4 7 6]\n",
      " [8 8 1 6]]\n",
      "\n",
      "Rata-rata per kolom:\n",
      "[5.5  5.25 3.5  5.  ]\n",
      "\n",
      "Standar Deviasi per kolom:\n",
      "[2.29128785 3.56195171 2.17944947 1.22474487]\n",
      "\n",
      "Median per kolom:\n",
      "[6.  6.  3.  5.5]\n",
      "\n",
      "Matriks Korelasi antar-kolom:\n",
      "[[ 1.          0.59731984 -0.95118973  0.        ]\n",
      " [ 0.59731984  1.         -0.33813839  0.68768191]\n",
      " [-0.95118973 -0.33813839  1.          0.18731716]\n",
      " [ 0.          0.68768191  0.18731716  1.        ]]\n"
     ]
    }
   ],
   "source": [
    "#Tampilkan hasil\n",
    "print(\"array 3:\")\n",
    "print(array3)\n",
    "\n",
    "#nilai rata-rata\n",
    "avg_array3 = np.mean(array3, axis=0)\n",
    "\n",
    "#standar deviasi\n",
    "std_dev_array3 = np.std(array3, axis=0)\n",
    "\n",
    "#median\n",
    "median_array3 = np.median(array3, axis=0)\n",
    "\n",
    "#korelasi antar kolom dari array\n",
    "correlation_array = np.corrcoef(array3, rowvar=False)\n",
    "\n",
    "\n",
    "#print hasil\n",
    "print(\"\\nRata-rata per kolom:\")\n",
    "print(avg_array3)\n",
    "print(\"\\nStandar Deviasi per kolom:\")\n",
    "print(std_dev_array3)\n",
    "print(\"\\nMedian per kolom:\")\n",
    "print(median_array3)\n",
    "print(\"\\nMatriks Korelasi antar-kolom:\")\n",
    "print(correlation_array)"
   ]
  },
  {
   "cell_type": "markdown",
   "metadata": {},
   "source": [
    "11. Buatlah array NumPy 1D dengan nilai-nilai dari 0 hingga π dengan interval \n",
    "0.1"
   ]
  },
  {
   "cell_type": "code",
   "execution_count": 22,
   "metadata": {},
   "outputs": [
    {
     "name": "stdout",
     "output_type": "stream",
     "text": [
      "Array 1D dari 0 hingga π dengan interval 0.1:\n",
      "[0.  0.1 0.2 0.3 0.4 0.5 0.6 0.7 0.8 0.9 1.  1.1 1.2 1.3 1.4 1.5 1.6 1.7\n",
      " 1.8 1.9 2.  2.1 2.2 2.3 2.4 2.5 2.6 2.7 2.8 2.9 3.  3.1 3.2]\n"
     ]
    }
   ],
   "source": [
    "#definisi nilai π \n",
    "pi = np.pi\n",
    "\n",
    "#Buat array 1D dari 0 hingga pi dengan interval 0.1\n",
    "array4 = np.arange(0, pi + 0.1, 0.1)\n",
    "\n",
    "#Menampilkan hasil\n",
    "print(\"Array 1D dari 0 hingga π dengan interval 0.1:\")\n",
    "print(array4)"
   ]
  },
  {
   "cell_type": "markdown",
   "metadata": {},
   "source": [
    "12.Hitung nilai sin, cos, dan tan dari setiap elemen array tersebut.\t"
   ]
  },
  {
   "cell_type": "code",
   "execution_count": 23,
   "metadata": {},
   "outputs": [
    {
     "name": "stdout",
     "output_type": "stream",
     "text": [
      "Array 1D dari 0 hingga π dengan interval 0.1:\n",
      "[0.  0.1 0.2 0.3 0.4 0.5 0.6 0.7 0.8 0.9 1.  1.1 1.2 1.3 1.4 1.5 1.6 1.7\n",
      " 1.8 1.9 2.  2.1 2.2 2.3 2.4 2.5 2.6 2.7 2.8 2.9 3.  3.1 3.2]\n",
      "\n",
      "Nilai sin dari setiap elemen:\n",
      "[ 0.          0.09983342  0.19866933  0.29552021  0.38941834  0.47942554\n",
      "  0.56464247  0.64421769  0.71735609  0.78332691  0.84147098  0.89120736\n",
      "  0.93203909  0.96355819  0.98544973  0.99749499  0.9995736   0.99166481\n",
      "  0.97384763  0.94630009  0.90929743  0.86320937  0.8084964   0.74570521\n",
      "  0.67546318  0.59847214  0.51550137  0.42737988  0.33498815  0.23924933\n",
      "  0.14112001  0.04158066 -0.05837414]\n",
      "\n",
      "Nilai cos dari setiap elemen:\n",
      "[ 1.          0.99500417  0.98006658  0.95533649  0.92106099  0.87758256\n",
      "  0.82533561  0.76484219  0.69670671  0.62160997  0.54030231  0.45359612\n",
      "  0.36235775  0.26749883  0.16996714  0.0707372  -0.02919952 -0.12884449\n",
      " -0.22720209 -0.32328957 -0.41614684 -0.5048461  -0.58850112 -0.66627602\n",
      " -0.73739372 -0.80114362 -0.85688875 -0.90407214 -0.94222234 -0.97095817\n",
      " -0.9899925  -0.99913515 -0.99829478]\n",
      "\n",
      "Nilai tan dari setiap elemen:\n",
      "[  0.           0.10033467   0.20271004   0.30933625   0.42279322\n",
      "   0.54630249   0.68413681   0.84228838   1.02963856   1.26015822\n",
      "   1.55740772   1.96475966   2.57215162   3.60210245   5.79788372\n",
      "  14.10141995 -34.23253274  -7.69660214  -4.28626167  -2.92709751\n",
      "  -2.18503986  -1.70984654  -1.37382306  -1.11921364  -0.91601429\n",
      "  -0.7470223   -0.60159661  -0.47272763  -0.35552983  -0.24640539\n",
      "  -0.14254654  -0.04161665   0.05847385]\n"
     ]
    }
   ],
   "source": [
    "#Tampilkan array\n",
    "print(\"Array 1D dari 0 hingga π dengan interval 0.1:\")\n",
    "print(array4)\n",
    "\n",
    "#nilai sin,cos dan tan \n",
    "sin_value = np.sin(array4)\n",
    "cos_value = np.cos(array4)\n",
    "tan_value = np.tan(array4)\n",
    "\n",
    "#Tampilkan hasil\n",
    "print(\"\\nNilai sin dari setiap elemen:\")\n",
    "print(sin_value)\n",
    "\n",
    "print(\"\\nNilai cos dari setiap elemen:\")\n",
    "print(cos_value)\n",
    "\n",
    "print(\"\\nNilai tan dari setiap elemen:\")\n",
    "print(tan_value)"
   ]
  },
  {
   "cell_type": "markdown",
   "metadata": {},
   "source": [
    "13. Tampilkan nilai maksimum dan minimum dari hasil perhitungan sin."
   ]
  },
  {
   "cell_type": "code",
   "execution_count": 25,
   "metadata": {},
   "outputs": [
    {
     "name": "stdout",
     "output_type": "stream",
     "text": [
      "\n",
      "Nilai maksimum dari sin:\n",
      "0.9995736030415051\n",
      "\n",
      "Nilai minimum dari sin:\n",
      "-0.058374143427580086\n"
     ]
    }
   ],
   "source": [
    "#Menghitung nilai max dan minimum sin value\n",
    "max_sin = np.max(sin_value)\n",
    "min_sin = np.min(sin_value)\n",
    "\n",
    "#print hasil\n",
    "print(\"\\nNilai maksimum dari sin:\")\n",
    "print(max_sin)\n",
    "\n",
    "print(\"\\nNilai minimum dari sin:\")\n",
    "print(min_sin)"
   ]
  }
 ],
 "metadata": {
  "kernelspec": {
   "display_name": "Python 3",
   "language": "python",
   "name": "python3"
  },
  "language_info": {
   "codemirror_mode": {
    "name": "ipython",
    "version": 3
   },
   "file_extension": ".py",
   "mimetype": "text/x-python",
   "name": "python",
   "nbconvert_exporter": "python",
   "pygments_lexer": "ipython3",
   "version": "3.12.3"
  }
 },
 "nbformat": 4,
 "nbformat_minor": 2
}
