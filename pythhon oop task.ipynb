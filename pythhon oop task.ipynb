{
 "cells": [
  {
   "cell_type": "markdown",
   "metadata": {},
   "source": [
    "Bagian 1: Statements (Switch, Exception, Branching, Loops)"
   ]
  },
  {
   "cell_type": "markdown",
   "metadata": {},
   "source": [
    "A.Berikan contoh penggunaan switch statement dalam Python dan jelaskan kegunaan serta cara kerjanya.\n"
   ]
  },
  {
   "cell_type": "code",
   "execution_count": null,
   "metadata": {},
   "outputs": [
    {
     "name": "stdout",
     "output_type": "stream",
     "text": [
      "Result for option 2: Option 2 selected\n"
     ]
    }
   ],
   "source": [
    "def switch_example(option): # Fungsi swith_example digunakan untuk memetakan opsi ke hasil yang diinginkan\n",
    "    switcher = {\n",
    "        1: \"Option 1 selected\",\n",
    "        2: \"Option 2 selected\",\n",
    "        3: \"Option 3 selected\"\n",
    "    }\n",
    "    return switcher.get(option, \"Invalid Option\") #Mendapatkan hasil berdasarkan opsi\n",
    "\n",
    "Option = 2\n",
    "result = switch_example(Option)\n",
    "print(f\"Result for option {Option}: {result}\")"
   ]
  },
  {
   "cell_type": "markdown",
   "metadata": {},
   "source": [
    "B.Buatlah sebuah fungsi yang membaca dua angka dari pengguna dan mengembalikan hasil pembagian. Tambahkan blok exception untuk menangani situasi di mana pengguna mencoba untuk membagi dengan nol.\n"
   ]
  },
  {
   "cell_type": "code",
   "execution_count": null,
   "metadata": {},
   "outputs": [],
   "source": [
    "def divide_numbers():\n",
    "    try: #Membaca 2 angka \n",
    "        numerator = float(input(\"Insert pembilang: \"))\n",
    "        denominator = float(input(\"Masukkan penyebut: \"))\n",
    "\n",
    "        #Menghitung hasil bagi\n",
    "        result = numerator / denominator\n",
    "        return result\n",
    "    \n",
    "    except ZeroDivisionError:\n",
    "        return \"Error : Tidak bisa dibagi nol.\"\n",
    "    except ValueError:\n",
    "        return \"Error : Input tidak valid. Masukkan angka.\"\n",
    "    \n",
    "result = divide_numbers()\n",
    "print(result)\n",
    "\n"
   ]
  },
  {
   "cell_type": "markdown",
   "metadata": {},
   "source": [
    " C. Tuliskan program Python untuk menentukan apakah suatu tahun tertentu adalah tahun kabisat atau tidak. Berikan penjelasan singkat tentang konsep kondisional yang Anda gunakan.\n"
   ]
  },
  {
   "cell_type": "code",
   "execution_count": 1,
   "metadata": {},
   "outputs": [],
   "source": [
    "def leap_year(year): #Menentukan tahun kabisat atau bukan \n",
    "    if (year % 4 == 0):\n",
    "        if (year % 100 == 0):\n",
    "            if (year % 400 == 0):\n",
    "                return True #Boolian jika  benar tahun kabisat \n",
    "            else:\n",
    "                return False #Boolian jika bukan tahun kabisat\n",
    "    \n",
    "\n",
    "year = int(input(\"question\"))\n",
    "if leap_year(year):\n",
    "    print(f\"{year} adalah tahun kabisat. \")\n",
    "else:\n",
    "    print(f\"{year} bukan tahun kabisat. \")"
   ]
  },
  {
   "cell_type": "markdown",
   "metadata": {},
   "source": [
    " D. Buatlah program yang menggunakan loop untuk menghitung jumlah bilangan ganjil dari 1 hingga 50.\n"
   ]
  },
  {
   "cell_type": "code",
   "execution_count": 1,
   "metadata": {},
   "outputs": [
    {
     "name": "stdout",
     "output_type": "stream",
     "text": [
      "jumlah bilangan ganjil yang ada di angka 1-50 adalah: 625\n"
     ]
    }
   ],
   "source": [
    "jumlah_ganjil = 0 #variable untuk menyimpan bilangan ganjil\n",
    "\n",
    "#Loop 1-50\n",
    "for angka in range(1, 51):\n",
    "    if angka % 2 !=0: #Cek ada/tidak bilangan ganjil\n",
    "        jumlah_ganjil += angka #Tambahkan angka ke jumlah ganjil\n",
    "\n",
    "print(f\"jumlah bilangan ganjil yang ada di angka 1-50 adalah: {jumlah_ganjil}\")"
   ]
  },
  {
   "cell_type": "markdown",
   "metadata": {},
   "source": [
    "Bagian 2: Object-Oriented Programming (OOP)"
   ]
  },
  {
   "cell_type": "markdown",
   "metadata": {},
   "source": [
    "A. Buatlah dua kelas, Rectangle dan Circle, yang keduanya memiliki metode calculate_area(). Implementasikan polimorfisme dengan cara memanggil metode calculate_area() pada objek yang berbeda dan tunjukkan hasilnya.\n"
   ]
  },
  {
   "cell_type": "code",
   "execution_count": 2,
   "metadata": {},
   "outputs": [
    {
     "name": "stdout",
     "output_type": "stream",
     "text": [
      "Luas bentuk: 60\n",
      "Luas bentuk: 201.06192982974676\n"
     ]
    }
   ],
   "source": [
    "import math\n",
    "\n",
    "class Rectangle:\n",
    "    def __init__(self, width, height):\n",
    "        self.width = width\n",
    "        self.height = height\n",
    "\n",
    "    def calculate_area(self): #Menghitung luas persegi panjang\n",
    "        return self.width * self.height\n",
    "    \n",
    "class Circle:\n",
    "    def __init__(self, radius):\n",
    "        self.radius = radius\n",
    "\n",
    "    def calculate_area(self): #Menghitung luas lingkaran\n",
    "        return math.pi * self.radius ** 2\n",
    "    \n",
    "def print_area(shape): #Mencetak luas dari bentuk yang diberikan\n",
    "    print(f\"Luas bentuk: {shape.calculate_area()}\")\n",
    "\n",
    "#Membuat objek rectangle dan circle\n",
    "Rectangle = Rectangle(10, 6)\n",
    "Circle = Circle(8)\n",
    "\n",
    "#Ploifarisme untuk cetak luas\n",
    "print_area(Rectangle)\n",
    "print_area(Circle)           "
   ]
  },
  {
   "cell_type": "markdown",
   "metadata": {},
   "source": [
    "  B. Buatlah tiga kelas: Vehicle, Car, dan Bicycle. Gunakan konsep inheritance sehingga Car dan Bicycle mewarisi sifat dan metode dari Vehicle.\n"
   ]
  },
  {
   "cell_type": "code",
   "execution_count": 6,
   "metadata": {},
   "outputs": [
    {
     "name": "stdout",
     "output_type": "stream",
     "text": [
      "2022 Toyota Corolla\n",
      "Jumlah pintu: 4\n",
      "Mesin dinyalakan.\n",
      "Mobil siap dikendarai.\n",
      "\n",
      "2023 Giant Escape 3\n",
      "Jenis sepeda: Road Bike\n",
      "Sepeda tidak memiliki mesin.\n"
     ]
    }
   ],
   "source": [
    "class Vehicle:\n",
    "    def __init__(self, make, model, year):\n",
    "        self.make = make\n",
    "        self.model = model\n",
    "        self.year = year\n",
    "\n",
    "    def display_info(self): #Info kendaraan\n",
    "        print(f\"{self.year} {self.make} {self.model}\")\n",
    "\n",
    "    def start_engine(self): #Mesin dinyalakan\n",
    "        print(\"Mesin dinyalakan.\")\n",
    "\n",
    "class Car(Vehicle):\n",
    "    def __init__(self, make, model, year, doors):\n",
    "        super().__init__(make, model, year)\n",
    "        self.doors = doors\n",
    "\n",
    "    def display_info(self): #Menampilkan jumlah pintu pada mobil\n",
    "        super().display_info()\n",
    "        print(f\"Jumlah pintu: {self.doors}\")\n",
    "\n",
    "    def start_engine(self): #menampilkan mobil siap beroperasi\n",
    "        super().start_engine()\n",
    "        print(\"Mobil siap dikendarai.\")\n",
    "\n",
    "class Bicycle(Vehicle):\n",
    "    def __init__(self, make, model, year, type_of_bicycle):\n",
    "        super().__init__(make, model, year)\n",
    "        self.type_of_bicycle = type_of_bicycle\n",
    "\n",
    "    def display_info(self): #Informasi pada sepeda\n",
    "        super().display_info()\n",
    "        print(f\"Jenis sepeda: {self.type_of_bicycle}\")\n",
    "\n",
    "    def start_engine(self): #Sepeda siap dikendarai\n",
    "        print(\"Sepeda tidak memiliki mesin.\")\n",
    "\n",
    "# Membuat objek dari kelas Car dan Bicycle\n",
    "car = Car(\"Toyota\", \"Corolla\", 2022, 4)\n",
    "bicycle = Bicycle(\"Giant\", \"Escape 3\", 2023, \"Road Bike\")\n",
    "\n",
    "# Menampilkan informasi dan memulai mesin\n",
    "car.display_info()\n",
    "car.start_engine()\n",
    "\n",
    "print()  # Baris kosong untuk pemisah\n",
    "\n",
    "bicycle.display_info()\n",
    "bicycle.start_engine()\n"
   ]
  },
  {
   "cell_type": "markdown",
   "metadata": {},
   "source": [
    " C, Implementasikan konsep encapsulation dalam sebuah kelas Person. Jadikan beberapa atribut kelas tersebut bersifat privat dan sediakan metode untuk mengakses dan mengubah nilai atribut-atribut tersebut."
   ]
  },
  {
   "cell_type": "code",
   "execution_count": null,
   "metadata": {},
   "outputs": [],
   "source": [
    "class Person:\n",
    "    def __init__(self, name, age, email):\n",
    "        self.__name = name  # Atribut privat\n",
    "        self.__age = age    # Atribut privat\n",
    "        self.__email = email  # Atribut privat\n",
    "\n",
    "    # Getter untuk atribut name\n",
    "    def get_name(self):\n",
    "        return self.__name\n",
    "\n",
    "    # Setter untuk atribut name\n",
    "    def set_name(self, name):\n",
    "        self.__name = name\n",
    "\n",
    "    # Getter untuk atribut age\n",
    "    def get_age(self):\n",
    "        return self.__age\n",
    "\n",
    "    # Setter untuk atribut age\n",
    "    def set_age(self, age):\n",
    "        if age >= 0:  # Validasi umur tidak negatif\n",
    "            self.__age = age\n",
    "        else:\n",
    "            print(\"Umur tidak bisa negatif.\")\n",
    "\n",
    "    # Getter untuk atribut email\n",
    "    def get_email(self):\n",
    "        return self.__email\n",
    "\n",
    "    # Setter untuk atribut email\n",
    "    def set_email(self, email):\n",
    "        if \"@\" in email:  # Validasi format email sederhana\n",
    "            self.__email = email\n",
    "        else:\n",
    "            print(\"Format email tidak valid.\")\n",
    "\n",
    "    # Metode untuk menampilkan informasi pribadi\n",
    "    def display_info(self):\n",
    "        print(f\"Nama: {self.__name}\")\n",
    "        print(f\"Umur: {self.__age}\")\n",
    "        print(f\"Email: {self.__email}\")\n",
    "\n",
    "# Membuat objek Person\n",
    "person = Person(\"Alice\", 30, \"alice@example.com\")\n",
    "\n",
    "# Menampilkan informasi awal\n",
    "person.display_info()\n",
    "\n",
    "print()  # Baris kosong untuk pemisah\n",
    "\n",
    "# Menggunakan metode getter dan setter\n",
    "person.set_name(\"Bob\")\n",
    "person.set_age(35)\n",
    "person.set_email(\"bob@example.com\")\n",
    "\n",
    "# Menampilkan informasi setelah diubah\n",
    "person.display_info()\n",
    "\n",
    "print()  # Baris kosong untuk pemisah\n",
    "\n",
    "# Contoh validasi\n",
    "person.set_age(-5)  # Output: Umur tidak bisa negatif.\n",
    "person.set_email(\"invalid-email\")  # Output: Format email tidak valid."
   ]
  }
 ],
 "metadata": {
  "kernelspec": {
   "display_name": "Python 3",
   "language": "python",
   "name": "python3"
  },
  "language_info": {
   "codemirror_mode": {
    "name": "ipython",
    "version": 3
   },
   "file_extension": ".py",
   "mimetype": "text/x-python",
   "name": "python",
   "nbconvert_exporter": "python",
   "pygments_lexer": "ipython3",
   "version": "3.12.3"
  }
 },
 "nbformat": 4,
 "nbformat_minor": 2
}
