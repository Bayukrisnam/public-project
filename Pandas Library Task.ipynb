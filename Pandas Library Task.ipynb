{
 "cells": [
  {
   "cell_type": "markdown",
   "metadata": {},
   "source": [
    "#PANDAS LIBRARY TASK#"
   ]
  },
  {
   "cell_type": "markdown",
   "metadata": {},
   "source": [
    " 1. Buatlah sebuah DataFrame (20 baris data) dengan nama \"data\" yang terdiri dari kolom \"Nama\", \"Usia\", dan \"Kota\".\n"
   ]
  },
  {
   "cell_type": "code",
   "execution_count": 3,
   "metadata": {},
   "outputs": [],
   "source": [
    "data = {\n",
    "    \"Nama\": [\"Andi\", \"Budi\", \"Cici\", \"Dani\", \"Eka\", \"Fani\", \"Gita\", \"Hadi\", \"Ika\", \"Joni\",\n",
    "             \"Kiki\", \"Lina\", \"Maya\", \"Nina\", \"Oka\", \"Putu\", \"Qori\", \"Rina\", \"Sari\", \"Tomi\"],\n",
    "    \"Usia\": [23, 30, 27, 22, 31, 29, 25, 32, 28, 24,\n",
    "             33, 21, 26, 30, 29, 34, 22, 27, 25, 28],\n",
    "    \"Kota\": [\"Jakarta\", \"Bandung\", \"Surabaya\", \"Medan\", \"Yogyakarta\", \"Bali\", \"Semarang\", \"Makassar\", \"Palembang\", \"Malang\",\n",
    "             \"Denpasar\", \"Solo\", \"Banjarmasin\", \"Pontianak\", \"Manado\", \"Mataram\", \"Kupang\", \"Ambon\", \"Papua\", \"Batam\"]\n",
    "}\n",
    "\n",
    "\n"
   ]
  },
  {
   "cell_type": "markdown",
   "metadata": {},
   "source": [
    "2. Tuliskan kode yang menunjukkan pembuatan DataFrame menggunakan Pandas dengan data yang disediakan.\n"
   ]
  },
  {
   "cell_type": "code",
   "execution_count": 4,
   "metadata": {},
   "outputs": [
    {
     "name": "stdout",
     "output_type": "stream",
     "text": [
      "    Nama  Usia         Kota\n",
      "0   Andi    23      Jakarta\n",
      "1   Budi    30      Bandung\n",
      "2   Cici    27     Surabaya\n",
      "3   Dani    22        Medan\n",
      "4    Eka    31   Yogyakarta\n",
      "5   Fani    29         Bali\n",
      "6   Gita    25     Semarang\n",
      "7   Hadi    32     Makassar\n",
      "8    Ika    28    Palembang\n",
      "9   Joni    24       Malang\n",
      "10  Kiki    33     Denpasar\n",
      "11  Lina    21         Solo\n",
      "12  Maya    26  Banjarmasin\n",
      "13  Nina    30    Pontianak\n",
      "14   Oka    29       Manado\n",
      "15  Putu    34      Mataram\n",
      "16  Qori    22       Kupang\n",
      "17  Rina    27        Ambon\n",
      "18  Sari    25        Papua\n",
      "19  Tomi    28        Batam\n"
     ]
    }
   ],
   "source": [
    "#Import Pandas\n",
    "import pandas as pd\n",
    "\n",
    "\n",
    "# Buat DataFrame dari data\n",
    "df = pd.DataFrame(data)\n",
    "\n",
    "# Menampilkan DataFrame\n",
    "print(df) "
   ]
  },
  {
   "cell_type": "markdown",
   "metadata": {},
   "source": [
    "3. Gunakan metode Pandas yang tepat untuk menampilkan lima baris pertama dari DataFrame \"data\".\n"
   ]
  },
  {
   "cell_type": "code",
   "execution_count": 9,
   "metadata": {},
   "outputs": [
    {
     "name": "stdout",
     "output_type": "stream",
     "text": [
      "   Nama  Usia        Kota\n",
      "0  Andi    23     Jakarta\n",
      "1  Budi    30     Bandung\n",
      "2  Cici    27    Surabaya\n",
      "3  Dani    22       Medan\n",
      "4   Eka    31  Yogyakarta\n"
     ]
    }
   ],
   "source": [
    "print(df.head())"
   ]
  },
  {
   "cell_type": "markdown",
   "metadata": {},
   "source": [
    " 4. Tambahkan kolom baru “Gender”, “Alamat”, dan “Pekerjaan” ke DataFrame \"data\" dan menampilkan DataFrame yang telah diubah.\n"
   ]
  },
  {
   "cell_type": "code",
   "execution_count": 10,
   "metadata": {},
   "outputs": [
    {
     "name": "stdout",
     "output_type": "stream",
     "text": [
      "    Nama  Usia         Kota  Gender Alamat     Pekerjaan\n",
      "0   Andi    23      Jakarta    Pria  Jl. A      Engineer\n",
      "1   Budi    30      Bandung    Pria  Jl. B        Doctor\n",
      "2   Cici    27     Surabaya  Wanita  Jl. C       Teacher\n",
      "3   Dani    22        Medan    Pria  Jl. D        Artist\n",
      "4    Eka    31   Yogyakarta  Wanita  Jl. E         Nurse\n",
      "5   Fani    29         Bali  Wanita  Jl. F      Designer\n",
      "6   Gita    25     Semarang  Wanita  Jl. G          Chef\n",
      "7   Hadi    32     Makassar    Pria  Jl. H       Manager\n",
      "8    Ika    28    Palembang  Wanita  Jl. I         Sales\n",
      "9   Joni    24       Malang    Pria  Jl. J        Driver\n",
      "10  Kiki    33     Denpasar  Wanita  Jl. K    Accountant\n",
      "11  Lina    21         Solo  Wanita  Jl. L     Scientist\n",
      "12  Maya    26  Banjarmasin  Wanita  Jl. M    Technician\n",
      "13  Nina    30    Pontianak  Wanita  Jl. N    Consultant\n",
      "14   Oka    29       Manado    Pria  Jl. O         Pilot\n",
      "15  Putu    34      Mataram    Pria  Jl. P    Programmer\n",
      "16  Qori    22       Kupang  Wanita  Jl. Q    Journalist\n",
      "17  Rina    27        Ambon  Wanita  Jl. R  Photographer\n",
      "18  Sari    25        Papua  Wanita  Jl. S       Student\n",
      "19  Tomi    28        Batam    Pria  Jl. T  Entrepreneur\n"
     ]
    }
   ],
   "source": [
    "#Menambahkan kolom baru\n",
    "df[\"Gender\"] = [\"Pria\", \"Pria\", \"Wanita\", \"Pria\", \"Wanita\", \"Wanita\", \"Wanita\", \"Pria\", \"Wanita\", \"Pria\",\n",
    "                \"Wanita\", \"Wanita\", \"Wanita\", \"Wanita\", \"Pria\", \"Pria\", \"Wanita\", \"Wanita\", \"Wanita\", \"Pria\"]\n",
    "df[\"Alamat\"] = [\"Jl. A\", \"Jl. B\", \"Jl. C\", \"Jl. D\", \"Jl. E\", \"Jl. F\", \"Jl. G\", \"Jl. H\", \"Jl. I\", \"Jl. J\",\n",
    "                \"Jl. K\", \"Jl. L\", \"Jl. M\", \"Jl. N\", \"Jl. O\", \"Jl. P\", \"Jl. Q\", \"Jl. R\", \"Jl. S\", \"Jl. T\"]\n",
    "df[\"Pekerjaan\"] = [\"Engineer\", \"Doctor\", \"Teacher\", \"Artist\", \"Nurse\", \"Designer\", \"Chef\", \"Manager\", \"Sales\", \"Driver\",\n",
    "                   \"Accountant\", \"Scientist\", \"Technician\", \"Consultant\", \"Pilot\", \"Programmer\", \"Journalist\", \"Photographer\", \"Student\", \"Entrepreneur\"]\n",
    "\n",
    "#Print data yang baru\n",
    "print(df)"
   ]
  },
  {
   "cell_type": "markdown",
   "metadata": {},
   "source": [
    " 5. Gunakan Pandas untuk menyaring data dari DataFrame \"data\" di mana nilai Usia lebih dari 25, dan tampilkan hasilnya.\n"
   ]
  },
  {
   "cell_type": "code",
   "execution_count": 11,
   "metadata": {},
   "outputs": [
    {
     "name": "stdout",
     "output_type": "stream",
     "text": [
      "    Nama  Usia         Kota  Gender Alamat     Pekerjaan\n",
      "1   Budi    30      Bandung    Pria  Jl. B        Doctor\n",
      "2   Cici    27     Surabaya  Wanita  Jl. C       Teacher\n",
      "4    Eka    31   Yogyakarta  Wanita  Jl. E         Nurse\n",
      "5   Fani    29         Bali  Wanita  Jl. F      Designer\n",
      "7   Hadi    32     Makassar    Pria  Jl. H       Manager\n",
      "8    Ika    28    Palembang  Wanita  Jl. I         Sales\n",
      "10  Kiki    33     Denpasar  Wanita  Jl. K    Accountant\n",
      "12  Maya    26  Banjarmasin  Wanita  Jl. M    Technician\n",
      "13  Nina    30    Pontianak  Wanita  Jl. N    Consultant\n",
      "14   Oka    29       Manado    Pria  Jl. O         Pilot\n",
      "15  Putu    34      Mataram    Pria  Jl. P    Programmer\n",
      "17  Rina    27        Ambon  Wanita  Jl. R  Photographer\n",
      "19  Tomi    28        Batam    Pria  Jl. T  Entrepreneur\n"
     ]
    }
   ],
   "source": [
    "#Filtered data usia >25\n",
    "filtered_df = df[df[\"Usia\"] > 25]\n",
    "\n",
    "print(filtered_df)"
   ]
  },
  {
   "cell_type": "markdown",
   "metadata": {},
   "source": [
    "6. Gunakan Pandas untuk menyaring data dari DataFrame \"data\" di mana nilai Usia lebih dari 30, dan Gender “Perempuan” serta tampilkan hasilnya.\n"
   ]
  },
  {
   "cell_type": "code",
   "execution_count": 12,
   "metadata": {},
   "outputs": [
    {
     "name": "stdout",
     "output_type": "stream",
     "text": [
      "    Nama  Usia        Kota  Gender Alamat   Pekerjaan\n",
      "4    Eka    31  Yogyakarta  Wanita  Jl. E       Nurse\n",
      "10  Kiki    33    Denpasar  Wanita  Jl. K  Accountant\n"
     ]
    }
   ],
   "source": [
    "#Filtered data umur >30 dan gender perempuan\n",
    "filter_conditional = df[(df[\"Usia\"] > 30) & (df[\"Gender\"] == \"Wanita\")]\n",
    "\n",
    "print(filter_conditional)"
   ]
  },
  {
   "cell_type": "markdown",
   "metadata": {},
   "source": [
    "7. Tuliskan kode yang menggunakan .loc[] dan .iloc[] untuk mengakses baris ke-3 dan ke-4 beserta kolom yang diminta, lalu tampilkan hasilnya.\n"
   ]
  },
  {
   "cell_type": "code",
   "execution_count": 13,
   "metadata": {},
   "outputs": [
    {
     "name": "stdout",
     "output_type": "stream",
     "text": [
      "   Nama  Usia      Kota  Gender Alamat Pekerjaan\n",
      "2  Cici    27  Surabaya  Wanita  Jl. C   Teacher\n",
      "3  Dani    22     Medan    Pria  Jl. D    Artist\n",
      "   Nama  Usia      Kota  Gender Alamat Pekerjaan\n",
      "2  Cici    27  Surabaya  Wanita  Jl. C   Teacher\n",
      "3  Dani    22     Medan    Pria  Jl. D    Artist\n"
     ]
    }
   ],
   "source": [
    "#Mengakses baris 3 dan 4 dengan .iloc[] (indeks 2 dan 3)\n",
    "iloc_result = df.iloc[2:4]\n",
    "\n",
    "#Mengakses baris 3 dan 4 dengan .loc[] (indeks 2 dan 3 jika menggunakan indeks default)\n",
    "#.loc[] digunakan pada label indeks\n",
    "loc_result = df.loc[2:3]\n",
    "\n",
    "print(iloc_result)\n",
    "print(loc_result)"
   ]
  },
  {
   "cell_type": "markdown",
   "metadata": {},
   "source": [
    "8. Buat program untuk menghitung rata-rata usia dari DataFrame \"data\"."
   ]
  },
  {
   "cell_type": "code",
   "execution_count": 14,
   "metadata": {},
   "outputs": [
    {
     "name": "stdout",
     "output_type": "stream",
     "text": [
      "27.3\n"
     ]
    }
   ],
   "source": [
    "#Menghitung usia rata-rata dari data\n",
    "average_age = df[\"Usia\"].mean()\n",
    "print(average_age)\n",
    "\n"
   ]
  },
  {
   "cell_type": "markdown",
   "metadata": {},
   "source": [
    "9. Gunakan Pandas untuk menyimpan DataFrame \"data\" ke dalam format file CSV."
   ]
  },
  {
   "cell_type": "code",
   "execution_count": 16,
   "metadata": {},
   "outputs": [],
   "source": [
    "df.to_csv('pandaslibrary.csv', index=False)"
   ]
  }
 ],
 "metadata": {
  "kernelspec": {
   "display_name": "Python 3",
   "language": "python",
   "name": "python3"
  },
  "language_info": {
   "codemirror_mode": {
    "name": "ipython",
    "version": 3
   },
   "file_extension": ".py",
   "mimetype": "text/x-python",
   "name": "python",
   "nbconvert_exporter": "python",
   "pygments_lexer": "ipython3",
   "version": "3.12.3"
  }
 },
 "nbformat": 4,
 "nbformat_minor": 2
}
